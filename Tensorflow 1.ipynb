{
  "nbformat": 4,
  "nbformat_minor": 0,
  "metadata": {
    "colab": {
      "provenance": []
    },
    "kernelspec": {
      "name": "python3",
      "display_name": "Python 3"
    },
    "language_info": {
      "name": "python"
    }
  },
  "cells": [
    {
      "cell_type": "markdown",
      "source": [
        "Tensor in TensorFlow\n",
        "\n",
        "In TensorFlow, a tensor is a fundamental data structure used to represent multi-dimensional arrays or tensors. Tensors are the primary building blocks of TensorFlow computations, serving as the basic units for storing and manipulating data."
      ],
      "metadata": {
        "id": "1AU79YvhZf7l"
      }
    },
    {
      "cell_type": "markdown",
      "source": [
        "What is Tensor Shape?\n",
        "\n",
        "Tensor shape refers to the layout or structure of a tensor, which defines the number of dimensions and the size of each dimension in the tensor. It describes how many elements are along each axis of the tensor."
      ],
      "metadata": {
        "id": "gA3thqIFWUZE"
      }
    },
    {
      "cell_type": "code",
      "source": [
        "import tensorflow as tf\n",
        "\n",
        "# Create a tensor\n",
        "tensor = tf.constant([[1, 2, 3], [4, 5, 6]])\n",
        "\n",
        "# Get the shape of the tensor\n",
        "shape = tensor.shape\n",
        "\n",
        "print('Tensor: ', tensor)\n",
        "print('Tensor shape: ', shape)"
      ],
      "metadata": {
        "colab": {
          "base_uri": "https://localhost:8080/"
        },
        "id": "L407Aqq5T8CX",
        "outputId": "4053d553-0cb7-413d-cae3-726473bb72d3"
      },
      "execution_count": 5,
      "outputs": [
        {
          "output_type": "stream",
          "name": "stdout",
          "text": [
            "Tensor:  tf.Tensor(\n",
            "[[1 2 3]\n",
            " [4 5 6]], shape=(2, 3), dtype=int32)\n",
            "Tensor shape:  (2, 3)\n"
          ]
        }
      ]
    },
    {
      "cell_type": "markdown",
      "source": [
        "What is Tensor Size?\n",
        "\n",
        "Tensor size refers to the total number of elements in a tensor. It is the product of all the dimensions (sizes) of the tensor. In other words, it represents the total amount of data stored in the tensor."
      ],
      "metadata": {
        "id": "pioCsdOWW8tM"
      }
    },
    {
      "cell_type": "code",
      "source": [
        "import tensorflow as tf\n",
        "tensor = tf.constant([[1, 2, 3], [4, 5, 6]])\n",
        "\n",
        "# Get the size of the tensor\n",
        "# shape= tensor.shape\n",
        "size = tf.size(tensor)\n",
        "print(\"Tensor size: \", size)\n",
        "# print(\"Tensor shape: \", shape)"
      ],
      "metadata": {
        "colab": {
          "base_uri": "https://localhost:8080/"
        },
        "id": "8nXkdFxdV-6u",
        "outputId": "368d1212-4041-4364-df77-6d768a328440"
      },
      "execution_count": 8,
      "outputs": [
        {
          "output_type": "stream",
          "name": "stdout",
          "text": [
            "Tensor size:  tf.Tensor(6, shape=(), dtype=int32)\n"
          ]
        }
      ]
    },
    {
      "cell_type": "markdown",
      "source": [
        "What is Tensor Rank?\n",
        "\n",
        "Tensor rank, also known as the tensor's number of dimensions, is a fundamental concept in TensorFlow. It indicates the number of dimensions present in a tensor.\n",
        "\n",
        "Here's a brief overview of tensor rank:\n",
        "\n",
        "Rank 0: Scalars. Tensors of rank 0 represent single values.\n",
        "\n",
        "Rank 1: Vectors. Tensors of rank 1 have one dimension and represent arrays of values.\n",
        "\n",
        "Rank 2: Matrices. Tensors of rank 2 have two dimensions and represent 2D arrays of values.\n",
        "\n",
        "Rank 3 and above: Tensors of rank 3 or higher have three or more dimensions and represent higher-dimensional arrays of values."
      ],
      "metadata": {
        "id": "URywrGjZXXiF"
      }
    },
    {
      "cell_type": "code",
      "source": [
        "import tensorflow as tf\n",
        "\n",
        "# Create tensors of different ranks\n",
        "scalar = tf.constant(5)  # Rank 0 tensor (scalar)\n",
        "vector = tf.constant([1, 2, 3])  # Rank 1 tensor (vector)\n",
        "matrix = tf.constant([[1, 2], [3, 4]])  # Rank 2 tensor (matrix)\n",
        "tensor_3d = tf.constant([[[1, 2], [3, 4]], [[5, 6], [7, 8]]])# Rank 3 tensor(3d)\n",
        "\n",
        "# Get the rank of tensors\n",
        "rank_scalar = tf.rank(scalar)\n",
        "rank_vector = tf.rank(vector)\n",
        "rank_matrix = tf.rank(matrix)\n",
        "rank_3d = tf.rank(tensor_3d)\n",
        "\n",
        "print('Rank of scalar:', rank_scalar.numpy())\n",
        "print('Rank of vector:', rank_vector.numpy())\n",
        "print('Rank of matrix:', rank_matrix.numpy())\n",
        "print('Rank of 3D tensor:', rank_3d.numpy())"
      ],
      "metadata": {
        "colab": {
          "base_uri": "https://localhost:8080/"
        },
        "id": "cF9m7--tXvQt",
        "outputId": "f3256734-41cd-49e4-a5f9-7b4917740acc"
      },
      "execution_count": 9,
      "outputs": [
        {
          "output_type": "stream",
          "name": "stdout",
          "text": [
            "Rank of scalar: 0\n",
            "Rank of vector: 1\n",
            "Rank of matrix: 2\n",
            "Rank of 3D tensor: 3\n"
          ]
        }
      ]
    },
    {
      "cell_type": "markdown",
      "source": [
        "What is Tensor Dimension?\n",
        "\n",
        "Tensor dimension refers to the length along a particular axis of a tensor. In simpler terms, it is the size or extent of a tensor along a specific direction. Each axis of a tensor corresponds to a dimension, and the number of dimensions in a tensor is its rank."
      ],
      "metadata": {
        "id": "uHLoNdVqYSo9"
      }
    },
    {
      "cell_type": "code",
      "source": [
        "import tensorflow as tf\n",
        "tensor = tf.constant([[1, 2, 3], [4, 5, 6]])\n",
        "shape = tensor.shape\n",
        "\n",
        "# Get the length of the first dimension\n",
        "dim1_length = shape[0]\n",
        "\n",
        "# Get the length of the second dimension\n",
        "dim2_length = shape[1]\n",
        "\n",
        "print('Tensor shape:', shape)\n",
        "print('Length of first dimension:', dim1_length)\n",
        "print('Length of second dimension:', dim2_length)"
      ],
      "metadata": {
        "colab": {
          "base_uri": "https://localhost:8080/"
        },
        "id": "2JumWkZlYUTE",
        "outputId": "78538cc4-8f99-42a5-f0b3-13a036c7982c"
      },
      "execution_count": 10,
      "outputs": [
        {
          "output_type": "stream",
          "name": "stdout",
          "text": [
            "Tensor shape: (2, 3)\n",
            "Length of first dimension: 2\n",
            "Length of second dimension: 3\n"
          ]
        }
      ]
    },
    {
      "cell_type": "markdown",
      "source": [],
      "metadata": {
        "id": "7qAoF_GSYyfU"
      }
    }
  ]
}